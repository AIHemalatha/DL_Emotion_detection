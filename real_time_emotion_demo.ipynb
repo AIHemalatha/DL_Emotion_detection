{
 "cells": [
  {
   "cell_type": "code",
   "execution_count": 1,
   "id": "9451dc9f",
   "metadata": {},
   "outputs": [],
   "source": [
    "import cv2\n",
    "import numpy as np\n",
    "from tensorflow.keras.models import load_model\n",
    "from utils.preprocessing import preprocess_input"
   ]
  },
  {
   "cell_type": "code",
   "execution_count": 2,
   "id": "c4325d8f",
   "metadata": {},
   "outputs": [],
   "source": [
    "# Load face detector\n",
    "face_cascade = cv2.CascadeClassifier(cv2.data.haarcascades + \"haarcascade_frontalface_default.xml\")\n",
    "\n",
    "# Load trained model\n",
    "model = load_model(\"fer2013_mini_XCEPTION.119-0.65.hdf5\", compile=False)\n",
    "\n",
    "# Emotion labels and colors\n",
    "emotion_labels = ['Angry', 'Disgust', 'Fear', 'Happy', 'Sad', 'Surprise', 'Neutral']\n",
    "emotion_colors = {\n",
    "    'Angry': (0, 0, 255),\n",
    "    'Disgust': (0, 128, 0),\n",
    "    'Fear': (128, 0, 128),\n",
    "    'Happy': (0, 255, 255),\n",
    "    'Sad': (255, 0, 0),\n",
    "    'Surprise': (255, 165, 0),\n",
    "    'Neutral': (128, 128, 128)\n",
    "}"
   ]
  },
  {
   "cell_type": "code",
   "execution_count": 3,
   "id": "709183e1",
   "metadata": {},
   "outputs": [
    {
     "name": "stdout",
     "output_type": "stream",
     "text": [
      "🟢 Starting Emotion Recognition. Press 'q' to quit.\n"
     ]
    }
   ],
   "source": [
    "# Start video capture\n",
    "cap = cv2.VideoCapture(0)\n",
    "print(\"🟢 Starting Emotion Recognition. Press 'q' to quit.\")\n",
    "\n",
    "while True:\n",
    "    ret, frame = cap.read()\n",
    "    if not ret:\n",
    "        break\n",
    "\n",
    "    gray = cv2.cvtColor(frame, cv2.COLOR_BGR2GRAY)\n",
    "    faces = face_cascade.detectMultiScale(gray, scaleFactor=1.3, minNeighbors=5)\n",
    "\n",
    "    for (x, y, w, h) in faces:\n",
    "        face = gray[y:y+h, x:x+w]\n",
    "        face = cv2.resize(face, (48, 48))\n",
    "        face = preprocess_input(face)\n",
    "        face = np.expand_dims(face, axis=0)\n",
    "        face = np.expand_dims(face, axis=-1)\n",
    "\n",
    "        preds = model.predict(face, verbose=0)\n",
    "        emotion_idx = np.argmax(preds)\n",
    "        emotion = emotion_labels[emotion_idx]\n",
    "        color = emotion_colors[emotion]\n",
    "\n",
    "        # Draw box and label\n",
    "        cv2.rectangle(frame, (x, y), (x+w, y+h), color, 2)\n",
    "        cv2.putText(frame, f\"{emotion}\", (x, y - 10),\n",
    "                    cv2.FONT_HERSHEY_SIMPLEX, 0.9, color, 2)\n",
    "\n",
    "    cv2.imshow(\"AI Mood Buddy - Real-Time FER\", frame)\n",
    "\n",
    "    if cv2.waitKey(1) & 0xFF == ord('q'):\n",
    "        break\n",
    "\n",
    "cap.release()\n",
    "cv2.destroyAllWindows()"
   ]
  }
 ],
 "metadata": {
  "kernelspec": {
   "display_name": "Python (dl)",
   "language": "python",
   "name": "dl"
  },
  "language_info": {
   "codemirror_mode": {
    "name": "ipython",
    "version": 3
   },
   "file_extension": ".py",
   "mimetype": "text/x-python",
   "name": "python",
   "nbconvert_exporter": "python",
   "pygments_lexer": "ipython3",
   "version": "3.10.18"
  }
 },
 "nbformat": 4,
 "nbformat_minor": 5
}
